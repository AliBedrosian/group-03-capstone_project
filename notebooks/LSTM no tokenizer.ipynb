{
 "cells": [
  {
   "cell_type": "code",
   "execution_count": 1,
   "id": "2fdefebe-01a1-4519-9e5c-fbf4fe0818fc",
   "metadata": {},
   "outputs": [],
   "source": [
    "import pandas as pd\n",
    "import numpy as np\n",
    "import torch\n",
    "import torch.nn as nn\n",
    "import torch.optim as optim\n",
    "from torch.utils.data import Dataset, DataLoader\n",
    "from sklearn.model_selection import train_test_split\n",
    "from sklearn.metrics import mean_squared_error, r2_score\n",
    "from collections import Counter"
   ]
  },
  {
   "cell_type": "code",
   "execution_count": 2,
   "id": "b74d73df-fead-4ad5-8065-eb3f5e5b290f",
   "metadata": {},
   "outputs": [
    {
     "data": {
      "text/html": [
       "<div>\n",
       "<style scoped>\n",
       "    .dataframe tbody tr th:only-of-type {\n",
       "        vertical-align: middle;\n",
       "    }\n",
       "\n",
       "    .dataframe tbody tr th {\n",
       "        vertical-align: top;\n",
       "    }\n",
       "\n",
       "    .dataframe thead th {\n",
       "        text-align: right;\n",
       "    }\n",
       "</style>\n",
       "<table border=\"1\" class=\"dataframe\">\n",
       "  <thead>\n",
       "    <tr style=\"text-align: right;\">\n",
       "      <th></th>\n",
       "      <th>tweet_body</th>\n",
       "      <th>pct_change</th>\n",
       "      <th>tokens</th>\n",
       "    </tr>\n",
       "  </thead>\n",
       "  <tbody>\n",
       "    <tr>\n",
       "      <th>0</th>\n",
       "      <td>Yup</td>\n",
       "      <td>0.118376</td>\n",
       "      <td>[yup]</td>\n",
       "    </tr>\n",
       "    <tr>\n",
       "      <th>1</th>\n",
       "      <td>Massive public manipulation</td>\n",
       "      <td>0.118376</td>\n",
       "      <td>[massive, public, manipulation]</td>\n",
       "    </tr>\n",
       "    <tr>\n",
       "      <th>2</th>\n",
       "      <td>🤣🤣</td>\n",
       "      <td>-5.347600</td>\n",
       "      <td>[🤣🤣]</td>\n",
       "    </tr>\n",
       "    <tr>\n",
       "      <th>3</th>\n",
       "      <td>Prescient</td>\n",
       "      <td>-1.342455</td>\n",
       "      <td>[prescient]</td>\n",
       "    </tr>\n",
       "    <tr>\n",
       "      <th>4</th>\n",
       "      <td>Congratulations Tesla team on a great year!!</td>\n",
       "      <td>-0.663789</td>\n",
       "      <td>[congratulations, tesla, team, on, a, great, y...</td>\n",
       "    </tr>\n",
       "  </tbody>\n",
       "</table>\n",
       "</div>"
      ],
      "text/plain": [
       "                                     tweet_body  pct_change  \\\n",
       "0                                           Yup    0.118376   \n",
       "1                   Massive public manipulation    0.118376   \n",
       "2                                            🤣🤣   -5.347600   \n",
       "3                                     Prescient   -1.342455   \n",
       "4  Congratulations Tesla team on a great year!!   -0.663789   \n",
       "\n",
       "                                              tokens  \n",
       "0                                              [yup]  \n",
       "1                    [massive, public, manipulation]  \n",
       "2                                               [🤣🤣]  \n",
       "3                                        [prescient]  \n",
       "4  [congratulations, tesla, team, on, a, great, y...  "
      ]
     },
     "execution_count": 2,
     "metadata": {},
     "output_type": "execute_result"
    }
   ],
   "source": [
    "df = pd.read_csv(\"tableau_ready_sentiment_data.csv\")\n",
    "df = df[['tweet_body', 'pct_change']].dropna()\n",
    "df['tokens'] = df['tweet_body'].apply(lambda x: x.lower().split())\n",
    "df.head()"
   ]
  },
  {
   "cell_type": "code",
   "execution_count": 3,
   "id": "f8e36347-d488-4123-953b-913155da1907",
   "metadata": {},
   "outputs": [],
   "source": [
    "# Flatten all tokens and build vocab\n",
    "all_tokens = [token for row in df['tokens'] for token in row]\n",
    "token_counts = Counter(all_tokens)\n",
    "\n",
    "vocab = {token: idx + 2 for idx, (token, _) in enumerate(token_counts.items())}  # start from 2\n",
    "vocab[\"<PAD>\"] = 0\n",
    "vocab[\"<UNK>\"] = 1"
   ]
  },
  {
   "cell_type": "code",
   "execution_count": 4,
   "id": "cc20996d-5ee5-42d8-b690-dfe5373d0b04",
   "metadata": {},
   "outputs": [],
   "source": [
    "MAX_LEN = 32\n",
    "\n",
    "def encode(tokens):\n",
    "    encoded = [vocab.get(token, vocab[\"<UNK>\"]) for token in tokens]\n",
    "    padded = encoded[:MAX_LEN] + [vocab[\"<PAD>\"]] * (MAX_LEN - len(encoded))\n",
    "    return padded\n",
    "\n",
    "df['encoded'] = df['tokens'].apply(encode)"
   ]
  },
  {
   "cell_type": "code",
   "execution_count": 5,
   "id": "1a05fb89-d2ba-4177-90fe-e0acae8afadc",
   "metadata": {},
   "outputs": [],
   "source": [
    "class TweetDataset(Dataset):\n",
    "    def __init__(self, inputs, targets):\n",
    "        self.inputs = torch.tensor(inputs.tolist(), dtype=torch.long)\n",
    "        self.targets = torch.tensor(targets.values, dtype=torch.float32)\n",
    "\n",
    "    def __len__(self):\n",
    "        return len(self.targets)\n",
    "\n",
    "    def __getitem__(self, idx):\n",
    "        return self.inputs[idx], self.targets[idx]\n",
    "\n",
    "X_train, X_test, y_train, y_test = train_test_split(df['encoded'], df['pct_change'], test_size=0.2, random_state=42)\n",
    "\n",
    "train_dataset = TweetDataset(X_train, y_train)\n",
    "test_dataset = TweetDataset(X_test, y_test)\n",
    "\n",
    "train_loader = DataLoader(train_dataset, batch_size=32, shuffle=True)\n",
    "test_loader = DataLoader(test_dataset, batch_size=32)"
   ]
  },
  {
   "cell_type": "code",
   "execution_count": 6,
   "id": "aa7aaa5d-a5c3-43de-b2c8-c77a101a5969",
   "metadata": {},
   "outputs": [],
   "source": [
    "class SimpleLSTM(nn.Module):\n",
    "    def __init__(self, vocab_size, embedding_dim=100, hidden_dim=128):\n",
    "        super(SimpleLSTM, self).__init__()\n",
    "        self.embedding = nn.Embedding(vocab_size, embedding_dim, padding_idx=0)\n",
    "        self.lstm = nn.LSTM(embedding_dim, hidden_dim, batch_first=True)\n",
    "        self.fc = nn.Linear(hidden_dim, 1)\n",
    "\n",
    "    def forward(self, x):\n",
    "        embeds = self.embedding(x)\n",
    "        _, (hidden, _) = self.lstm(embeds)\n",
    "        return self.fc(hidden[-1]).squeeze()"
   ]
  },
  {
   "cell_type": "code",
   "execution_count": 7,
   "id": "21f30f06-7002-4b03-a1c8-07ec965630b1",
   "metadata": {},
   "outputs": [],
   "source": [
    "device = torch.device(\"cuda\" if torch.cuda.is_available() else \"cpu\")\n",
    "model = SimpleLSTM(vocab_size=len(vocab)).to(device)\n",
    "\n",
    "optimizer = optim.Adam(model.parameters(), lr=0.001)\n",
    "criterion = nn.MSELoss()\n",
    "\n",
    "def train_epoch(model, data_loader):\n",
    "    model.train()\n",
    "    total_loss = 0\n",
    "    for inputs, targets in data_loader:\n",
    "        inputs, targets = inputs.to(device), targets.to(device)\n",
    "        optimizer.zero_grad()\n",
    "        outputs = model(inputs)\n",
    "        loss = criterion(outputs, targets)\n",
    "        loss.backward()\n",
    "        optimizer.step()\n",
    "        total_loss += loss.item()\n",
    "    return total_loss / len(data_loader)"
   ]
  },
  {
   "cell_type": "code",
   "execution_count": 8,
   "id": "d88ce8f1-4e27-4e0a-962c-459f16eadcc8",
   "metadata": {},
   "outputs": [
    {
     "name": "stdout",
     "output_type": "stream",
     "text": [
      "Epoch 1, Loss: 9.0411\n",
      "Epoch 2, Loss: 8.9479\n",
      "Epoch 3, Loss: 8.8027\n",
      "Epoch 4, Loss: 8.5823\n",
      "Epoch 5, Loss: 8.3762\n"
     ]
    }
   ],
   "source": [
    "for epoch in range(5):\n",
    "    loss = train_epoch(model, train_loader)\n",
    "    print(f\"Epoch {epoch+1}, Loss: {loss:.4f}\")"
   ]
  },
  {
   "cell_type": "code",
   "execution_count": 9,
   "id": "2f38f640-303c-4279-be31-866437264e9a",
   "metadata": {},
   "outputs": [
    {
     "name": "stdout",
     "output_type": "stream",
     "text": [
      "MSE: 8.8625, R²: -0.0034\n"
     ]
    }
   ],
   "source": [
    "model.eval()\n",
    "preds, actuals = [], []\n",
    "with torch.no_grad():\n",
    "    for inputs, targets in test_loader:\n",
    "        inputs, targets = inputs.to(device), targets.to(device)\n",
    "        outputs = model(inputs)\n",
    "        preds.extend(outputs.cpu().numpy())\n",
    "        actuals.extend(targets.cpu().numpy())\n",
    "\n",
    "mse = mean_squared_error(actuals, preds)\n",
    "r2 = r2_score(actuals, preds)\n",
    "print(f\"MSE: {mse:.4f}, R²: {r2:.4f}\")"
   ]
  },
  {
   "cell_type": "markdown",
   "id": "0fbc44da-6cf6-44d2-b671-9039c26f91dc",
   "metadata": {},
   "source": [
    "R²: -0.0034 → the model is performing very slightly worse than a simple mean-based baseline (i.e., always predicting the average value)."
   ]
  }
 ],
 "metadata": {
  "kernelspec": {
   "display_name": "Python 3 (ipykernel)",
   "language": "python",
   "name": "python3"
  },
  "language_info": {
   "codemirror_mode": {
    "name": "ipython",
    "version": 3
   },
   "file_extension": ".py",
   "mimetype": "text/x-python",
   "name": "python",
   "nbconvert_exporter": "python",
   "pygments_lexer": "ipython3",
   "version": "3.10.13"
  }
 },
 "nbformat": 4,
 "nbformat_minor": 5
}
